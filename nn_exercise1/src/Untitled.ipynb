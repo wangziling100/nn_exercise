{
 "cells": [
  {
   "cell_type": "code",
   "execution_count": 1,
   "metadata": {
    "collapsed": false
   },
   "outputs": [],
   "source": [
    "from data.mnist_seven import MNISTSeven\n",
    "from model.stupid_recognizer import StupidRecognizer\n",
    "from model.perceptron import Perceptron\n",
    "from report.evaluator import Evaluator\n",
    "import numpy as np"
   ]
  },
  {
   "cell_type": "code",
   "execution_count": 2,
   "metadata": {
    "collapsed": false
   },
   "outputs": [
    {
     "name": "stdout",
     "output_type": "stream",
     "text": [
      "Loading data from ../data/mnist_seven.csv...\n",
      "Data loaded.\n"
     ]
    }
   ],
   "source": [
    "data = MNISTSeven(\"../data/mnist_seven.csv\", 3000, 1000, 1000)"
   ]
  },
  {
   "cell_type": "code",
   "execution_count": 4,
   "metadata": {
    "collapsed": false
   },
   "outputs": [
    {
     "data": {
      "text/plain": [
       "data.mnist_seven.MNISTSeven"
      ]
     },
     "execution_count": 4,
     "metadata": {},
     "output_type": "execute_result"
    }
   ],
   "source": [
    "type(data)"
   ]
  },
  {
   "cell_type": "code",
   "execution_count": 6,
   "metadata": {
    "collapsed": false
   },
   "outputs": [
    {
     "name": "stdout",
     "output_type": "stream",
     "text": [
      "<data.mnist_seven.MNISTSeven object at 0x7fb24744a190>\n"
     ]
    }
   ],
   "source": [
    "print data"
   ]
  },
  {
   "cell_type": "code",
   "execution_count": 10,
   "metadata": {
    "collapsed": false
   },
   "outputs": [
    {
     "name": "stdout",
     "output_type": "stream",
     "text": [
      "[[ 0.  0.  0. ...,  0.  0.  0.]\n",
      " [ 0.  0.  0. ...,  0.  0.  0.]\n",
      " [ 0.  0.  0. ...,  0.  0.  0.]\n",
      " [ 0.  0.  0. ...,  0.  0.  0.]\n",
      " [ 0.  0.  0. ...,  0.  0.  0.]\n",
      " [ 0.  0.  0. ...,  0.  0.  0.]]\n"
     ]
    }
   ],
   "source": [
    "print data.trainingSet.input[0:6,]"
   ]
  },
  {
   "cell_type": "code",
   "execution_count": 11,
   "metadata": {
    "collapsed": false
   },
   "outputs": [
    {
     "name": "stdout",
     "output_type": "stream",
     "text": [
      "(3000, 784)\n"
     ]
    }
   ],
   "source": [
    "print data.trainingSet.input.shape"
   ]
  },
  {
   "cell_type": "code",
   "execution_count": 13,
   "metadata": {
    "collapsed": true
   },
   "outputs": [],
   "source": [
    "row = data.trainingSet"
   ]
  },
  {
   "cell_type": "code",
   "execution_count": 16,
   "metadata": {
    "collapsed": false
   },
   "outputs": [
    {
     "name": "stdout",
     "output_type": "stream",
     "text": [
      "15\n"
     ]
    }
   ],
   "source": [
    "a = np.array([1,2,3,4,5])\n",
    "b = np.array([1,1,1,1,1])\n",
    "c = np.dot(a,b)\n",
    "print c"
   ]
  },
  {
   "cell_type": "code",
   "execution_count": 18,
   "metadata": {
    "collapsed": false
   },
   "outputs": [
    {
     "name": "stdout",
     "output_type": "stream",
     "text": [
      "[0, 0, 0, 1, 0, 0]\n"
     ]
    }
   ],
   "source": [
    "print row.label[0:6]"
   ]
  },
  {
   "cell_type": "code",
   "execution_count": 21,
   "metadata": {
    "collapsed": false
   },
   "outputs": [
    {
     "data": {
      "text/plain": [
       "0"
      ]
     },
     "execution_count": 21,
     "metadata": {},
     "output_type": "execute_result"
    }
   ],
   "source": [
    "int(False)"
   ]
  },
  {
   "cell_type": "code",
   "execution_count": 3,
   "metadata": {
    "collapsed": false
   },
   "outputs": [],
   "source": [
    "myPerceptronClassifier = Perceptron(data.trainingSet,\n",
    "                                        data.validationSet,\n",
    "                                        data.testSet,\n",
    "                                        learningRate=0.005,\n",
    "                                        epochs=30)"
   ]
  },
  {
   "cell_type": "code",
   "execution_count": 4,
   "metadata": {
    "collapsed": false
   },
   "outputs": [
    {
     "name": "stdout",
     "output_type": "stream",
     "text": [
      "Accuracy of the recognizer: 95.40%\n",
      "Accuracy of the recognizer: 97.03%\n",
      "Accuracy of the recognizer: 97.30%\n",
      "Accuracy of the recognizer: 97.23%\n",
      "Accuracy of the recognizer: 98.03%\n",
      "Accuracy of the recognizer: 97.73%\n",
      "Accuracy of the recognizer: 98.10%\n",
      "Accuracy of the recognizer: 97.70%\n",
      "Accuracy of the recognizer: 98.13%\n",
      "Accuracy of the recognizer: 98.47%\n",
      "Accuracy of the recognizer: 98.37%\n",
      "Accuracy of the recognizer: 98.30%\n",
      "Accuracy of the recognizer: 98.43%\n",
      "Accuracy of the recognizer: 98.00%\n",
      "Accuracy of the recognizer: 98.73%\n",
      "Accuracy of the recognizer: 98.70%\n",
      "Accuracy of the recognizer: 98.77%\n",
      "Accuracy of the recognizer: 98.80%\n",
      "Accuracy of the recognizer: 98.87%\n",
      "Accuracy of the recognizer: 98.77%\n",
      "Accuracy of the recognizer: 99.00%\n",
      "Accuracy of the recognizer: 98.53%\n",
      "Accuracy of the recognizer: 98.90%\n",
      "Accuracy of the recognizer: 98.87%\n",
      "Accuracy of the recognizer: 98.73%\n",
      "Accuracy of the recognizer: 98.77%\n",
      "Accuracy of the recognizer: 99.10%\n",
      "Accuracy of the recognizer: 98.70%\n",
      "Accuracy of the recognizer: 99.10%\n",
      "Accuracy of the recognizer: 98.87%\n"
     ]
    }
   ],
   "source": [
    "myPerceptronClassifier.train(verbose=True)"
   ]
  },
  {
   "cell_type": "code",
   "execution_count": null,
   "metadata": {
    "collapsed": true
   },
   "outputs": [],
   "source": []
  },
  {
   "cell_type": "code",
   "execution_count": null,
   "metadata": {
    "collapsed": true
   },
   "outputs": [],
   "source": []
  }
 ],
 "metadata": {
  "kernelspec": {
   "display_name": "Python 2",
   "language": "python",
   "name": "python2"
  },
  "language_info": {
   "codemirror_mode": {
    "name": "ipython",
    "version": 2
   },
   "file_extension": ".py",
   "mimetype": "text/x-python",
   "name": "python",
   "nbconvert_exporter": "python",
   "pygments_lexer": "ipython2",
   "version": "2.7.13"
  }
 },
 "nbformat": 4,
 "nbformat_minor": 2
}
